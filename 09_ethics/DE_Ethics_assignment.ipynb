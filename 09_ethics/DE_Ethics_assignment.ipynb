{
  "nbformat": 4,
  "nbformat_minor": 0,
  "metadata": {
    "colab": {
      "provenance": []
    },
    "kernelspec": {
      "name": "python3",
      "display_name": "Python 3"
    },
    "language_info": {
      "name": "python"
    }
  },
  "cells": [
    {
      "cell_type": "code",
      "execution_count": null,
      "metadata": {
        "colab": {
          "base_uri": "https://localhost:8080/"
        },
        "id": "dSdI-ftxDjTg",
        "outputId": "b3208d22-6268-4010-825c-09b9f7ad3401"
      },
      "outputs": [
        {
          "output_type": "stream",
          "name": "stdout",
          "text": [
            "Requirement already satisfied: Faker in /usr/local/lib/python3.10/dist-packages (25.8.0)\n",
            "Requirement already satisfied: python-dateutil>=2.4 in /usr/local/lib/python3.10/dist-packages (from Faker) (2.8.2)\n",
            "Requirement already satisfied: six>=1.5 in /usr/local/lib/python3.10/dist-packages (from python-dateutil>=2.4->Faker) (1.16.0)\n"
          ]
        }
      ],
      "source": [
        "!pip install Faker\n",
        "from faker import Faker\n",
        "fake = Faker()"
      ]
    },
    {
      "cell_type": "code",
      "source": [
        "import pandas as pd\n",
        "import random"
      ],
      "metadata": {
        "id": "sigjmtQWHlHm"
      },
      "execution_count": null,
      "outputs": []
    },
    {
      "cell_type": "markdown",
      "source": [
        "This startup company of 320 employees intends to go public and become a 10,000 employee company. Your job is to produce an expanded 10K record synthetic database to help the founders understand personnel-related issues that might occur with the expanded company.\n",
        "\n",
        "Use the Faker python module to produce a 10K employee dataset. Follow these constraints:\n",
        "\n",
        "1.   All columns in the current data set must be preserved. It is not necessary to preserve any of the actual data from the current database\n",
        "2.   Need to keep track of social security numbers\n",
        "3.   The database should keep track of the languages (other than English) spoken by each employee. Each employee speaks 0, 1 or 2 languages in addition to English.\n",
        "4.  To grow, the company plans to sponsor visas and hire non-USA citizens. So your synthetic database should include 40% employees who are non-USA citizens and should include names of employees from India, Mainland China, Canada, South Korea, Philippines, Taiwan and Mexico. These names should be in proportion to the 2019 percentages of H1B petitions from each country.\n",
        "5.   The expanded company will have additional departments include “Legal” (approximately 5% of employees), “Marketing” (10%), “Administrative” (10%), “Operations” (20%), “Sales” (10%), “Finance” (5%) and “I/T” (10%) to go along with the current “Product” (20%) and “Human Resource” (10%) departments.\n",
        "6.  Salaries in each department must mimic the typical salaries for professionals in each field. You can find appropriate data for each type of profession at salary.com For example, see this page to find a model estimate for your synthetic marketing department: https://www.salary.com/research/salary/benchmark/marketing-specialist-salary.\n",
        "7. The current startup company (as represented by the employees.csv data) is skewed toward male employees. Our goal for the new company is to make the numbers of men and women approximately equal.\n",
        "\n",
        "\n",
        "\n",
        "\n",
        "\n",
        "\n"
      ],
      "metadata": {
        "id": "bEtJ5syaEhpd"
      }
    },
    {
      "cell_type": "markdown",
      "source": [
        "First Name\tLast Name\tEmail\tPhone\tGender\tAge\tJob Title\tYears Of Experience\tSalary\tDepartment"
      ],
      "metadata": {
        "id": "Gj0XOK_jJ1fe"
      }
    },
    {
      "cell_type": "code",
      "source": [
        "# Number of records\n",
        "num_records = 10000\n",
        "\n",
        "# Departments and their proportions\n",
        "departments = [\n",
        "    (\"Legal\", 0.05),\n",
        "    (\"Marketing\", 0.10),\n",
        "    (\"Administrative\", 0.10),\n",
        "    (\"Operations\", 0.20),\n",
        "    (\"Sales\", 0.10),\n",
        "    (\"Finance\", 0.05),\n",
        "    (\"I/T\", 0.10),\n",
        "    (\"Product\", 0.20),\n",
        "    (\"Human Resource\", 0.10)\n",
        "]\n",
        "\n",
        "# Function to generate a department based on the defined proportions\n",
        "def get_department():\n",
        "    rand_val = random.random()\n",
        "    cumulative = 0\n",
        "    for dept, proportion in departments:\n",
        "        cumulative += proportion\n",
        "        if rand_val < cumulative:\n",
        "            return dept\n",
        "    return departments[-1][0]  # default to the last department\n",
        "\n",
        "# Function to generate a random salary based on department\n",
        "def get_salary(department):\n",
        "    salary_ranges = {\n",
        "        \"Legal\": (60000, 120000),\n",
        "        \"Marketing\": (40000, 100000),\n",
        "        \"Administrative\": (30000, 70000),\n",
        "        \"Operations\": (40000, 90000),\n",
        "        \"Sales\": (30000, 100000),\n",
        "        \"Finance\": (50000, 110000),\n",
        "        \"I/T\": (60000, 130000),\n",
        "        \"Product\": (50000, 120000),\n",
        "        \"Human Resource\": (40000, 90000)\n",
        "    }\n",
        "    return random.randint(*salary_ranges[department])\n",
        "\n",
        "\n",
        "# Function to determine citizenship and generate appropriate name\n",
        "def get_citizenship_name():\n",
        "    citizenship_proportions = {\n",
        "        \"USA\": 0.60,\n",
        "        \"India\": 0.15,\n",
        "        \"Mainland China\": 0.10,\n",
        "        \"Canada\": 0.05,\n",
        "        \"South Korea\": 0.03,\n",
        "        \"Philippines\": 0.03,\n",
        "        \"Taiwan\": 0.02,\n",
        "        \"Mexico\": 0.02\n",
        "    }\n",
        "    rand_val = random.random()\n",
        "    cumulative = 0\n",
        "    for country, proportion in citizenship_proportions.items():\n",
        "        cumulative += proportion\n",
        "        if rand_val < cumulative:\n",
        "            if country == \"USA\":\n",
        "                return country\n",
        "            else:\n",
        "                fake_locales = {\n",
        "                    \"India\": \"hi_IN\",\n",
        "                    \"Mainland China\": \"zh_CN\",\n",
        "                    \"Canada\": \"en_CA\",\n",
        "                    \"South Korea\": \"ko_KR\",\n",
        "                    \"Philippines\": \"fil_PH\",\n",
        "                    \"Taiwan\": \"zh_TW\",\n",
        "                    \"Mexico\": \"es_MX\"\n",
        "                }\n",
        "                fake_localized = Faker(fake_locales[country])\n",
        "                return country\n",
        "    return \"USA\" # default to USA\n",
        "\n",
        "# Generate the dataset\n",
        "data = []\n",
        "for _ in range(num_records):\n",
        "    first_name = fake.first_name()\n",
        "    last_name = fake.last_name()\n",
        "    email = fake.email()\n",
        "    phone = fake.phone_number()\n",
        "    gender = random.choice([\"Male\", \"Female\"])\n",
        "    age = random.randint(22, 65)\n",
        "    job_title = fake.job()\n",
        "    years_of_experience = random.randint(1, 30)\n",
        "    department = get_department()\n",
        "    salary = get_salary(department)\n",
        "    ssn = fake.ssn()\n",
        "    languages = random.choices([0, 1, 2])\n",
        "    citizenship= get_citizenship_name()\n",
        "    data.append([first_name, last_name, email, phone, gender, age, job_title, years_of_experience, salary, department, ssn, citizenship,languages])\n",
        "\n",
        "# Create a DataFrame\n",
        "columns = [\"First Name\", \"Last Name\", \"Email\", \"Phone\", \"Gender\", \"Age\", \"Job Title\", \"Years Of Experience\", \"Salary\", \"Department\", \"SSN\", \"Citizenship\", \"Languages\"]\n",
        "df = pd.DataFrame(data, columns=columns)\n",
        "\n",
        "# Save to CSV\n",
        "df.to_csv('synthetic_employee_data.csv', index=False)\n"
      ],
      "metadata": {
        "id": "o_iO_ac0DqQn"
      },
      "execution_count": null,
      "outputs": []
    },
    {
      "cell_type": "code",
      "source": [
        "import pandas as pd\n",
        "\n",
        "# Load the data\n",
        "df = pd.read_csv('synthetic_employee_data.csv')\n",
        "\n",
        "# Check for all columns presence\n",
        "print(\"Columns in the dataset:\", df.columns)\n",
        "\n",
        "# Check for SSN tracking\n",
        "print(\"SSN column unique values count:\", df['SSN'].nunique())\n",
        "\n",
        "# Analyze the percentage of non-USA citizens\n",
        "non_usa_employees = df[df['Citizenship'] != 'USA']\n",
        "percentage_non_usa = (non_usa_employees.shape[0] / df.shape[0]) * 100\n",
        "print(\"Percentage of Non-USA Employees:\", percentage_non_usa)\n",
        "\n",
        "# Calculate the percentage of employees in each department\n",
        "department_distribution = df['Department'].value_counts(normalize=True) * 100\n",
        "print(\"Department distribution:\\n\", department_distribution)\n",
        "\n",
        "# Checking for gender balance\n",
        "gender_balance = df['Gender'].value_counts(normalize=True) * 100\n",
        "print(\"Gender distribution:\\n\", gender_balance)"
      ],
      "metadata": {
        "id": "Qxm54eejuGvY"
      },
      "execution_count": null,
      "outputs": []
    },
    {
      "cell_type": "code",
      "source": [],
      "metadata": {
        "id": "QrOQJ0a2DqS9"
      },
      "execution_count": null,
      "outputs": []
    }
  ]
}