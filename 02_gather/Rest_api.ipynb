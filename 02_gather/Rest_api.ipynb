{
  "nbformat": 4,
  "nbformat_minor": 0,
  "metadata": {
    "colab": {
      "provenance": []
    },
    "kernelspec": {
      "name": "python3",
      "display_name": "Python 3"
    },
    "language_info": {
      "name": "python"
    }
  },
  "cells": [
    {
      "cell_type": "code",
      "source": [
        "import requests\n",
        "from datetime import datetime\n",
        "\n",
        "class WeatherPredictor:\n",
        "    key = \"0c026c7f9f97d8f3ee615adb54170427\"\n",
        "    api_url = \"https://api.openweathermap.org/data/2.5/\"\n",
        "\n",
        "    def fetch_data(self, endpoint, city):\n",
        "        url = f\"{self.api_url}{endpoint}?appid={self.key}&q={city}\"\n",
        "        result = requests.get(url)\n",
        "        if result.ok:\n",
        "            return result.json()\n",
        "        else:\n",
        "            print(f\"Error: Failed to fetch {endpoint} data.\")\n",
        "            return None\n",
        "\n",
        "    def check_and_predict_rain(self, city, date_time=None):\n",
        "        if date_time is None:\n",
        "            weather_data = self.fetch_data('weather', city)\n",
        "            if weather_data and any(weather.get('main') == 'Rain' for weather in weather_data['weather']):\n",
        "                print(f\"Yes, It is currently raining in {city}.\")\n",
        "            else:\n",
        "                print(f\"No, It is not currently raining in {city}.\")\n",
        "\n",
        "        if date_time:\n",
        "            forecast_data = self.fetch_data('forecast', city)\n",
        "            if forecast_data:\n",
        "                rain_prediction = any(\n",
        "                    date_time in item['dt_txt'] and any(weather.get('main') == 'Rain' for weather in item['weather'])\n",
        "                    for item in forecast_data['list']\n",
        "                )\n",
        "                if rain_prediction:\n",
        "                    print(f\"Yes It will be raining in {city} on {date_time}.\")\n",
        "                else:\n",
        "                    print(f\"No it will not be raining in {city} on {date_time}.\")\n",
        "\n",
        "    def validate_date_time(self, date_time):\n",
        "        try:\n",
        "            datetime.strptime(date_time, '%Y-%m-%d %H:%M:%S')\n",
        "            return True\n",
        "        except ValueError:\n",
        "            return False\n",
        "\n",
        "city = \"Portland\"\n",
        "predictor = WeatherPredictor()\n",
        "predictor.check_and_predict_rain(city)\n",
        "\n",
        "date_time = input(\"Enter the date and time of the next class meeting (in the format YYYY-MM-DD HH:MM:SS): \")\n",
        "predictor.check_and_predict_rain(city, date_time)"
      ],
      "metadata": {
        "colab": {
          "base_uri": "https://localhost:8080/"
        },
        "id": "lHeuvMgen0ov",
        "outputId": "4d2f51db-291e-43b1-dfdc-a58380834d8e"
      },
      "execution_count": 50,
      "outputs": [
        {
          "output_type": "stream",
          "name": "stdout",
          "text": [
            "No, It is not currently raining in Portland.\n",
            "Enter the date and time of the next class meeting (in the format YYYY-MM-DD HH:MM:SS): 2024-04-15 14:00:00\n",
            "No it will not be raining in Portland on 2024-04-15 14:00:00.\n"
          ]
        }
      ]
    }
  ]
}