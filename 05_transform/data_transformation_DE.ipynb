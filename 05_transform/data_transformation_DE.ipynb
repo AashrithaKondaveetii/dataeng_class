{
  "nbformat": 4,
  "nbformat_minor": 0,
  "metadata": {
    "colab": {
      "provenance": []
    },
    "kernelspec": {
      "name": "python3",
      "display_name": "Python 3"
    },
    "language_info": {
      "name": "python"
    }
  },
  "cells": [
    {
      "cell_type": "code",
      "execution_count": 1,
      "metadata": {
        "id": "TZe8EeLW0tnv"
      },
      "outputs": [],
      "source": [
        "import pandas as pd\n",
        "from datetime import datetime, timedelta"
      ]
    },
    {
      "cell_type": "code",
      "source": [
        "df = pd.read_csv(\"/content/sample_data/bc_trip259172515_230215.csv\",\n",
        "                 header='infer',\n",
        "                 skipinitialspace=False,\n",
        "                 skiprows=None,\n",
        "                 skipfooter=0,\n",
        "                 nrows=None,\n",
        "                 na_values=None,\n",
        "                 keep_default_na=True,\n",
        "                 na_filter=True,\n",
        "                 skip_blank_lines=True,\n",
        "                 compression='infer',\n",
        "                 decimal='.',\n",
        "                 lineterminator=None,\n",
        "                 quotechar='\"',\n",
        "                 quoting=0,\n",
        "                 doublequote=True,\n",
        "                 escapechar=None,\n",
        "                 comment=None,\n",
        "                 encoding=None,\n",
        "                 encoding_errors='strict',\n",
        "                 on_bad_lines='error',\n",
        "                 low_memory=True,\n",
        "                 memory_map=False,\n",
        "                 float_precision=None)\n"
      ],
      "metadata": {
        "id": "39llN7CR1nho"
      },
      "execution_count": 13,
      "outputs": []
    },
    {
      "cell_type": "code",
      "source": [
        "columns_to_read = [0, 2, 3, 4, 5, 6, 7]\n",
        "df1 = pd.read_csv(\"/content/sample_data/bc_trip259172515_230215.csv\", usecols=columns_to_read)"
      ],
      "metadata": {
        "id": "vRGeRDt_150q"
      },
      "execution_count": 15,
      "outputs": []
    },
    {
      "cell_type": "code",
      "source": [
        "print(df1)"
      ],
      "metadata": {
        "colab": {
          "base_uri": "https://localhost:8080/"
        },
        "id": "xq9ZXt1Q3ZBM",
        "outputId": "e8e53ef5-5aa1-4545-ae82-5f29ee425e63"
      },
      "execution_count": 16,
      "outputs": [
        {
          "output_type": "stream",
          "name": "stdout",
          "text": [
            "     EVENT_NO_TRIP            OPD_DATE  VEHICLE_ID  METERS  ACT_TIME  \\\n",
            "0        259172515  15FEB2023:00:00:00        4223      40     20469   \n",
            "1        259172515  15FEB2023:00:00:00        4223      48     20474   \n",
            "2        259172515  15FEB2023:00:00:00        4223      57     20479   \n",
            "3        259172515  15FEB2023:00:00:00        4223      73     20484   \n",
            "4        259172515  15FEB2023:00:00:00        4223     112     20489   \n",
            "..             ...                 ...         ...     ...       ...   \n",
            "156      259172515  15FEB2023:00:00:00        4223    5834     21389   \n",
            "157      259172515  15FEB2023:00:00:00        4223    5838     21424   \n",
            "158      259172515  15FEB2023:00:00:00        4223    5858     21429   \n",
            "159      259172515  15FEB2023:00:00:00        4223    5889     21434   \n",
            "160      259172515  15FEB2023:00:00:00        4223    5918     21439   \n",
            "\n",
            "     GPS_LONGITUDE  GPS_LATITUDE  \n",
            "0      -122.648137     45.493082  \n",
            "1      -122.648240     45.493070  \n",
            "2      -122.648352     45.493123  \n",
            "3      -122.648385     45.493262  \n",
            "4      -122.648347     45.493582  \n",
            "..             ...           ...  \n",
            "156    -122.677057     45.528040  \n",
            "157    -122.677003     45.528037  \n",
            "158    -122.676765     45.528043  \n",
            "159    -122.676370     45.528047  \n",
            "160    -122.675990     45.528065  \n",
            "\n",
            "[161 rows x 7 columns]\n"
          ]
        }
      ]
    },
    {
      "cell_type": "code",
      "source": [
        "def combine_date_time(row):\n",
        "\n",
        "    date = datetime.strptime(row['OPD_DATE'], '%d%b%Y:%H:%M:%S')\n",
        "\n",
        "    time_delta = timedelta(seconds=int(row['ACT_TIME']))\n",
        "\n",
        "    return date + time_delta\n",
        "\n",
        "df1['TIMESTAMP'] = df1.apply(combine_date_time, axis=1)\n",
        "\n",
        "print(df1)"
      ],
      "metadata": {
        "colab": {
          "base_uri": "https://localhost:8080/"
        },
        "id": "ie3QF5F-5kH1",
        "outputId": "db94a3b9-608a-4119-8eb1-01e26cc870a9"
      },
      "execution_count": 17,
      "outputs": [
        {
          "output_type": "stream",
          "name": "stdout",
          "text": [
            "     EVENT_NO_TRIP            OPD_DATE  VEHICLE_ID  METERS  ACT_TIME  \\\n",
            "0        259172515  15FEB2023:00:00:00        4223      40     20469   \n",
            "1        259172515  15FEB2023:00:00:00        4223      48     20474   \n",
            "2        259172515  15FEB2023:00:00:00        4223      57     20479   \n",
            "3        259172515  15FEB2023:00:00:00        4223      73     20484   \n",
            "4        259172515  15FEB2023:00:00:00        4223     112     20489   \n",
            "..             ...                 ...         ...     ...       ...   \n",
            "156      259172515  15FEB2023:00:00:00        4223    5834     21389   \n",
            "157      259172515  15FEB2023:00:00:00        4223    5838     21424   \n",
            "158      259172515  15FEB2023:00:00:00        4223    5858     21429   \n",
            "159      259172515  15FEB2023:00:00:00        4223    5889     21434   \n",
            "160      259172515  15FEB2023:00:00:00        4223    5918     21439   \n",
            "\n",
            "     GPS_LONGITUDE  GPS_LATITUDE           TIMESTAMP  \n",
            "0      -122.648137     45.493082 2023-02-15 05:41:09  \n",
            "1      -122.648240     45.493070 2023-02-15 05:41:14  \n",
            "2      -122.648352     45.493123 2023-02-15 05:41:19  \n",
            "3      -122.648385     45.493262 2023-02-15 05:41:24  \n",
            "4      -122.648347     45.493582 2023-02-15 05:41:29  \n",
            "..             ...           ...                 ...  \n",
            "156    -122.677057     45.528040 2023-02-15 05:56:29  \n",
            "157    -122.677003     45.528037 2023-02-15 05:57:04  \n",
            "158    -122.676765     45.528043 2023-02-15 05:57:09  \n",
            "159    -122.676370     45.528047 2023-02-15 05:57:14  \n",
            "160    -122.675990     45.528065 2023-02-15 05:57:19  \n",
            "\n",
            "[161 rows x 8 columns]\n"
          ]
        }
      ]
    },
    {
      "cell_type": "code",
      "source": [
        "df1.drop(columns=['OPD_DATE', 'ACT_TIME'], inplace=True)\n",
        "print(df1)"
      ],
      "metadata": {
        "colab": {
          "base_uri": "https://localhost:8080/"
        },
        "id": "I1td7A5U60yN",
        "outputId": "6ffd8897-618f-4f9e-8d14-1396877e0db6"
      },
      "execution_count": 18,
      "outputs": [
        {
          "output_type": "stream",
          "name": "stdout",
          "text": [
            "     EVENT_NO_TRIP  VEHICLE_ID  METERS  GPS_LONGITUDE  GPS_LATITUDE  \\\n",
            "0        259172515        4223      40    -122.648137     45.493082   \n",
            "1        259172515        4223      48    -122.648240     45.493070   \n",
            "2        259172515        4223      57    -122.648352     45.493123   \n",
            "3        259172515        4223      73    -122.648385     45.493262   \n",
            "4        259172515        4223     112    -122.648347     45.493582   \n",
            "..             ...         ...     ...            ...           ...   \n",
            "156      259172515        4223    5834    -122.677057     45.528040   \n",
            "157      259172515        4223    5838    -122.677003     45.528037   \n",
            "158      259172515        4223    5858    -122.676765     45.528043   \n",
            "159      259172515        4223    5889    -122.676370     45.528047   \n",
            "160      259172515        4223    5918    -122.675990     45.528065   \n",
            "\n",
            "              TIMESTAMP  \n",
            "0   2023-02-15 05:41:09  \n",
            "1   2023-02-15 05:41:14  \n",
            "2   2023-02-15 05:41:19  \n",
            "3   2023-02-15 05:41:24  \n",
            "4   2023-02-15 05:41:29  \n",
            "..                  ...  \n",
            "156 2023-02-15 05:56:29  \n",
            "157 2023-02-15 05:57:04  \n",
            "158 2023-02-15 05:57:09  \n",
            "159 2023-02-15 05:57:14  \n",
            "160 2023-02-15 05:57:19  \n",
            "\n",
            "[161 rows x 6 columns]\n"
          ]
        }
      ]
    },
    {
      "cell_type": "code",
      "source": [
        "list(df1.columns)"
      ],
      "metadata": {
        "colab": {
          "base_uri": "https://localhost:8080/"
        },
        "id": "lMUxqulCnS5P",
        "outputId": "13aaa53f-7854-49a6-a616-4c0279477095"
      },
      "execution_count": 25,
      "outputs": [
        {
          "output_type": "execute_result",
          "data": {
            "text/plain": [
              "['EVENT_NO_TRIP',\n",
              " 'VEHICLE_ID',\n",
              " 'METERS',\n",
              " 'GPS_LONGITUDE',\n",
              " 'GPS_LATITUDE',\n",
              " 'TIMESTAMP',\n",
              " 'SPEED']"
            ]
          },
          "metadata": {},
          "execution_count": 25
        }
      ]
    },
    {
      "cell_type": "code",
      "source": [
        "df1['TIMESTAMP'] = pd.to_datetime(df1['TIMESTAMP'])\n",
        "\n",
        "df1['dMETERS'] = df1['METERS'].diff()\n",
        "\n",
        "df1['dTIMESTAMP'] = df1['TIMESTAMP'].diff().dt.total_seconds()\n",
        "\n",
        "\n",
        "df1['SPEED'] = df1.apply(lambda row: row['dMETERS'] / row['dTIMESTAMP'] if row['dTIMESTAMP'] != 0 else 0, axis=1)"
      ],
      "metadata": {
        "id": "fhaGbyzu7bMJ"
      },
      "execution_count": 19,
      "outputs": []
    },
    {
      "cell_type": "code",
      "source": [
        "print(df1)"
      ],
      "metadata": {
        "colab": {
          "base_uri": "https://localhost:8080/"
        },
        "id": "a7wpzj5S86gv",
        "outputId": "47d5bdd1-29d1-4915-f72c-7619096a8d88"
      },
      "execution_count": 20,
      "outputs": [
        {
          "output_type": "stream",
          "name": "stdout",
          "text": [
            "     EVENT_NO_TRIP  VEHICLE_ID  METERS  GPS_LONGITUDE  GPS_LATITUDE  \\\n",
            "0        259172515        4223      40    -122.648137     45.493082   \n",
            "1        259172515        4223      48    -122.648240     45.493070   \n",
            "2        259172515        4223      57    -122.648352     45.493123   \n",
            "3        259172515        4223      73    -122.648385     45.493262   \n",
            "4        259172515        4223     112    -122.648347     45.493582   \n",
            "..             ...         ...     ...            ...           ...   \n",
            "156      259172515        4223    5834    -122.677057     45.528040   \n",
            "157      259172515        4223    5838    -122.677003     45.528037   \n",
            "158      259172515        4223    5858    -122.676765     45.528043   \n",
            "159      259172515        4223    5889    -122.676370     45.528047   \n",
            "160      259172515        4223    5918    -122.675990     45.528065   \n",
            "\n",
            "              TIMESTAMP  dMETERS  dTIMESTAMP     SPEED  \n",
            "0   2023-02-15 05:41:09      NaN         NaN       NaN  \n",
            "1   2023-02-15 05:41:14      8.0         5.0  1.600000  \n",
            "2   2023-02-15 05:41:19      9.0         5.0  1.800000  \n",
            "3   2023-02-15 05:41:24     16.0         5.0  3.200000  \n",
            "4   2023-02-15 05:41:29     39.0         5.0  7.800000  \n",
            "..                  ...      ...         ...       ...  \n",
            "156 2023-02-15 05:56:29     14.0         5.0  2.800000  \n",
            "157 2023-02-15 05:57:04      4.0        35.0  0.114286  \n",
            "158 2023-02-15 05:57:09     20.0         5.0  4.000000  \n",
            "159 2023-02-15 05:57:14     31.0         5.0  6.200000  \n",
            "160 2023-02-15 05:57:19     29.0         5.0  5.800000  \n",
            "\n",
            "[161 rows x 9 columns]\n"
          ]
        }
      ]
    },
    {
      "cell_type": "code",
      "source": [
        "df1.drop(columns=['dMETERS', 'dTIMESTAMP'], inplace=True)"
      ],
      "metadata": {
        "id": "X1cGS8y1850H"
      },
      "execution_count": 21,
      "outputs": []
    },
    {
      "cell_type": "code",
      "source": [
        "print(df1)"
      ],
      "metadata": {
        "colab": {
          "base_uri": "https://localhost:8080/"
        },
        "id": "67FhiMjj9BBc",
        "outputId": "0c6c2604-ccac-41ff-bd40-09acc4b3662d"
      },
      "execution_count": 22,
      "outputs": [
        {
          "output_type": "stream",
          "name": "stdout",
          "text": [
            "     EVENT_NO_TRIP  VEHICLE_ID  METERS  GPS_LONGITUDE  GPS_LATITUDE  \\\n",
            "0        259172515        4223      40    -122.648137     45.493082   \n",
            "1        259172515        4223      48    -122.648240     45.493070   \n",
            "2        259172515        4223      57    -122.648352     45.493123   \n",
            "3        259172515        4223      73    -122.648385     45.493262   \n",
            "4        259172515        4223     112    -122.648347     45.493582   \n",
            "..             ...         ...     ...            ...           ...   \n",
            "156      259172515        4223    5834    -122.677057     45.528040   \n",
            "157      259172515        4223    5838    -122.677003     45.528037   \n",
            "158      259172515        4223    5858    -122.676765     45.528043   \n",
            "159      259172515        4223    5889    -122.676370     45.528047   \n",
            "160      259172515        4223    5918    -122.675990     45.528065   \n",
            "\n",
            "              TIMESTAMP     SPEED  \n",
            "0   2023-02-15 05:41:09       NaN  \n",
            "1   2023-02-15 05:41:14  1.600000  \n",
            "2   2023-02-15 05:41:19  1.800000  \n",
            "3   2023-02-15 05:41:24  3.200000  \n",
            "4   2023-02-15 05:41:29  7.800000  \n",
            "..                  ...       ...  \n",
            "156 2023-02-15 05:56:29  2.800000  \n",
            "157 2023-02-15 05:57:04  0.114286  \n",
            "158 2023-02-15 05:57:09  4.000000  \n",
            "159 2023-02-15 05:57:14  6.200000  \n",
            "160 2023-02-15 05:57:19  5.800000  \n",
            "\n",
            "[161 rows x 7 columns]\n"
          ]
        }
      ]
    },
    {
      "cell_type": "code",
      "source": [
        "speed_statistics = df1['SPEED'].describe()\n",
        "\n",
        "print(f\"Minimum Speed: {speed_statistics['min']}\")\n",
        "print(f\"Maximum Speed: {speed_statistics['max']} \")\n",
        "print(f\"Average Speed: {speed_statistics['mean']}\")\n"
      ],
      "metadata": {
        "colab": {
          "base_uri": "https://localhost:8080/"
        },
        "id": "eWAbh9Gx9dxF",
        "outputId": "ca1ddfec-c73c-4384-c1ad-99640244c48a"
      },
      "execution_count": 23,
      "outputs": [
        {
          "output_type": "stream",
          "name": "stdout",
          "text": [
            "Minimum Speed: 0.0\n",
            "Maximum Speed: 17.4 \n",
            "Average Speed: 7.227205815018314\n"
          ]
        }
      ]
    }
  ]
}